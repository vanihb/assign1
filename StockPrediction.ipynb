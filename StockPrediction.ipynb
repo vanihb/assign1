{
 "cells": [
  {
   "cell_type": "code",
   "execution_count": 1,
   "id": "c0f88da2",
   "metadata": {},
   "outputs": [],
   "source": [
    "import pandas as pd\n",
    "import matplotlib.pyplot as plt\n",
    "import seaborn as sns"
   ]
  },
  {
   "cell_type": "code",
   "execution_count": 2,
   "id": "fb7c80bc",
   "metadata": {},
   "outputs": [],
   "source": [
    "df=pd.read_csv('LT.csv')"
   ]
  },
  {
   "cell_type": "code",
   "execution_count": 3,
   "id": "206280ba",
   "metadata": {},
   "outputs": [
    {
     "data": {
      "text/html": [
       "<div>\n",
       "<style scoped>\n",
       "    .dataframe tbody tr th:only-of-type {\n",
       "        vertical-align: middle;\n",
       "    }\n",
       "\n",
       "    .dataframe tbody tr th {\n",
       "        vertical-align: top;\n",
       "    }\n",
       "\n",
       "    .dataframe thead th {\n",
       "        text-align: right;\n",
       "    }\n",
       "</style>\n",
       "<table border=\"1\" class=\"dataframe\">\n",
       "  <thead>\n",
       "    <tr style=\"text-align: right;\">\n",
       "      <th></th>\n",
       "      <th>Date</th>\n",
       "      <th>Symbol</th>\n",
       "      <th>Series</th>\n",
       "      <th>Prev Close</th>\n",
       "      <th>Open</th>\n",
       "      <th>High</th>\n",
       "      <th>Low</th>\n",
       "      <th>Last</th>\n",
       "      <th>Close</th>\n",
       "      <th>VWAP</th>\n",
       "      <th>Volume</th>\n",
       "      <th>Turnover</th>\n",
       "      <th>Trades</th>\n",
       "      <th>Deliverable Volume</th>\n",
       "      <th>%Deliverble</th>\n",
       "    </tr>\n",
       "  </thead>\n",
       "  <tbody>\n",
       "    <tr>\n",
       "      <th>0</th>\n",
       "      <td>2004-06-23</td>\n",
       "      <td>LT</td>\n",
       "      <td>EQ</td>\n",
       "      <td>2.00</td>\n",
       "      <td>500.00</td>\n",
       "      <td>745.00</td>\n",
       "      <td>150.0</td>\n",
       "      <td>638.00</td>\n",
       "      <td>635.95</td>\n",
       "      <td>627.71</td>\n",
       "      <td>2699293</td>\n",
       "      <td>1.694372e+14</td>\n",
       "      <td>NaN</td>\n",
       "      <td>395612</td>\n",
       "      <td>0.1466</td>\n",
       "    </tr>\n",
       "    <tr>\n",
       "      <th>1</th>\n",
       "      <td>2004-06-24</td>\n",
       "      <td>LT</td>\n",
       "      <td>EQ</td>\n",
       "      <td>635.95</td>\n",
       "      <td>630.00</td>\n",
       "      <td>630.00</td>\n",
       "      <td>608.4</td>\n",
       "      <td>612.00</td>\n",
       "      <td>616.00</td>\n",
       "      <td>618.21</td>\n",
       "      <td>913575</td>\n",
       "      <td>5.647802e+13</td>\n",
       "      <td>NaN</td>\n",
       "      <td>305751</td>\n",
       "      <td>0.3347</td>\n",
       "    </tr>\n",
       "    <tr>\n",
       "      <th>2</th>\n",
       "      <td>2004-06-25</td>\n",
       "      <td>LT</td>\n",
       "      <td>EQ</td>\n",
       "      <td>616.00</td>\n",
       "      <td>619.00</td>\n",
       "      <td>679.00</td>\n",
       "      <td>616.1</td>\n",
       "      <td>665.00</td>\n",
       "      <td>668.30</td>\n",
       "      <td>658.45</td>\n",
       "      <td>1637383</td>\n",
       "      <td>1.078136e+14</td>\n",
       "      <td>NaN</td>\n",
       "      <td>217950</td>\n",
       "      <td>0.1331</td>\n",
       "    </tr>\n",
       "    <tr>\n",
       "      <th>3</th>\n",
       "      <td>2004-06-28</td>\n",
       "      <td>LT</td>\n",
       "      <td>EQ</td>\n",
       "      <td>668.30</td>\n",
       "      <td>660.00</td>\n",
       "      <td>671.90</td>\n",
       "      <td>640.2</td>\n",
       "      <td>653.00</td>\n",
       "      <td>656.40</td>\n",
       "      <td>657.39</td>\n",
       "      <td>913349</td>\n",
       "      <td>6.004271e+13</td>\n",
       "      <td>NaN</td>\n",
       "      <td>194984</td>\n",
       "      <td>0.2135</td>\n",
       "    </tr>\n",
       "    <tr>\n",
       "      <th>4</th>\n",
       "      <td>2004-06-29</td>\n",
       "      <td>LT</td>\n",
       "      <td>EQ</td>\n",
       "      <td>656.40</td>\n",
       "      <td>656.00</td>\n",
       "      <td>683.40</td>\n",
       "      <td>653.0</td>\n",
       "      <td>666.85</td>\n",
       "      <td>671.70</td>\n",
       "      <td>675.11</td>\n",
       "      <td>743063</td>\n",
       "      <td>5.016488e+13</td>\n",
       "      <td>NaN</td>\n",
       "      <td>101786</td>\n",
       "      <td>0.1370</td>\n",
       "    </tr>\n",
       "    <tr>\n",
       "      <th>...</th>\n",
       "      <td>...</td>\n",
       "      <td>...</td>\n",
       "      <td>...</td>\n",
       "      <td>...</td>\n",
       "      <td>...</td>\n",
       "      <td>...</td>\n",
       "      <td>...</td>\n",
       "      <td>...</td>\n",
       "      <td>...</td>\n",
       "      <td>...</td>\n",
       "      <td>...</td>\n",
       "      <td>...</td>\n",
       "      <td>...</td>\n",
       "      <td>...</td>\n",
       "      <td>...</td>\n",
       "    </tr>\n",
       "    <tr>\n",
       "      <th>4179</th>\n",
       "      <td>2021-04-26</td>\n",
       "      <td>LT</td>\n",
       "      <td>EQ</td>\n",
       "      <td>1322.90</td>\n",
       "      <td>1330.05</td>\n",
       "      <td>1341.20</td>\n",
       "      <td>1323.0</td>\n",
       "      <td>1339.00</td>\n",
       "      <td>1335.90</td>\n",
       "      <td>1334.93</td>\n",
       "      <td>1431562</td>\n",
       "      <td>1.911037e+14</td>\n",
       "      <td>52965.0</td>\n",
       "      <td>518221</td>\n",
       "      <td>0.3620</td>\n",
       "    </tr>\n",
       "    <tr>\n",
       "      <th>4180</th>\n",
       "      <td>2021-04-27</td>\n",
       "      <td>LT</td>\n",
       "      <td>EQ</td>\n",
       "      <td>1335.90</td>\n",
       "      <td>1339.00</td>\n",
       "      <td>1388.45</td>\n",
       "      <td>1335.9</td>\n",
       "      <td>1384.00</td>\n",
       "      <td>1380.65</td>\n",
       "      <td>1370.45</td>\n",
       "      <td>4303909</td>\n",
       "      <td>5.898288e+14</td>\n",
       "      <td>128988.0</td>\n",
       "      <td>1899385</td>\n",
       "      <td>0.4413</td>\n",
       "    </tr>\n",
       "    <tr>\n",
       "      <th>4181</th>\n",
       "      <td>2021-04-28</td>\n",
       "      <td>LT</td>\n",
       "      <td>EQ</td>\n",
       "      <td>1380.65</td>\n",
       "      <td>1384.85</td>\n",
       "      <td>1399.95</td>\n",
       "      <td>1372.5</td>\n",
       "      <td>1374.15</td>\n",
       "      <td>1375.90</td>\n",
       "      <td>1383.54</td>\n",
       "      <td>3220346</td>\n",
       "      <td>4.455488e+14</td>\n",
       "      <td>88395.0</td>\n",
       "      <td>1638109</td>\n",
       "      <td>0.5087</td>\n",
       "    </tr>\n",
       "    <tr>\n",
       "      <th>4182</th>\n",
       "      <td>2021-04-29</td>\n",
       "      <td>LT</td>\n",
       "      <td>EQ</td>\n",
       "      <td>1375.90</td>\n",
       "      <td>1383.95</td>\n",
       "      <td>1389.55</td>\n",
       "      <td>1353.5</td>\n",
       "      <td>1358.80</td>\n",
       "      <td>1358.65</td>\n",
       "      <td>1366.40</td>\n",
       "      <td>2221346</td>\n",
       "      <td>3.035242e+14</td>\n",
       "      <td>71953.0</td>\n",
       "      <td>1070434</td>\n",
       "      <td>0.4819</td>\n",
       "    </tr>\n",
       "    <tr>\n",
       "      <th>4183</th>\n",
       "      <td>2021-04-30</td>\n",
       "      <td>LT</td>\n",
       "      <td>EQ</td>\n",
       "      <td>1358.65</td>\n",
       "      <td>1350.00</td>\n",
       "      <td>1365.00</td>\n",
       "      <td>1336.1</td>\n",
       "      <td>1340.05</td>\n",
       "      <td>1340.45</td>\n",
       "      <td>1349.74</td>\n",
       "      <td>1968093</td>\n",
       "      <td>2.656419e+14</td>\n",
       "      <td>63130.0</td>\n",
       "      <td>953902</td>\n",
       "      <td>0.4847</td>\n",
       "    </tr>\n",
       "  </tbody>\n",
       "</table>\n",
       "<p>4184 rows × 15 columns</p>\n",
       "</div>"
      ],
      "text/plain": [
       "            Date Symbol Series  Prev Close     Open     High     Low     Last  \\\n",
       "0     2004-06-23     LT     EQ        2.00   500.00   745.00   150.0   638.00   \n",
       "1     2004-06-24     LT     EQ      635.95   630.00   630.00   608.4   612.00   \n",
       "2     2004-06-25     LT     EQ      616.00   619.00   679.00   616.1   665.00   \n",
       "3     2004-06-28     LT     EQ      668.30   660.00   671.90   640.2   653.00   \n",
       "4     2004-06-29     LT     EQ      656.40   656.00   683.40   653.0   666.85   \n",
       "...          ...    ...    ...         ...      ...      ...     ...      ...   \n",
       "4179  2021-04-26     LT     EQ     1322.90  1330.05  1341.20  1323.0  1339.00   \n",
       "4180  2021-04-27     LT     EQ     1335.90  1339.00  1388.45  1335.9  1384.00   \n",
       "4181  2021-04-28     LT     EQ     1380.65  1384.85  1399.95  1372.5  1374.15   \n",
       "4182  2021-04-29     LT     EQ     1375.90  1383.95  1389.55  1353.5  1358.80   \n",
       "4183  2021-04-30     LT     EQ     1358.65  1350.00  1365.00  1336.1  1340.05   \n",
       "\n",
       "        Close     VWAP   Volume      Turnover    Trades  Deliverable Volume  \\\n",
       "0      635.95   627.71  2699293  1.694372e+14       NaN              395612   \n",
       "1      616.00   618.21   913575  5.647802e+13       NaN              305751   \n",
       "2      668.30   658.45  1637383  1.078136e+14       NaN              217950   \n",
       "3      656.40   657.39   913349  6.004271e+13       NaN              194984   \n",
       "4      671.70   675.11   743063  5.016488e+13       NaN              101786   \n",
       "...       ...      ...      ...           ...       ...                 ...   \n",
       "4179  1335.90  1334.93  1431562  1.911037e+14   52965.0              518221   \n",
       "4180  1380.65  1370.45  4303909  5.898288e+14  128988.0             1899385   \n",
       "4181  1375.90  1383.54  3220346  4.455488e+14   88395.0             1638109   \n",
       "4182  1358.65  1366.40  2221346  3.035242e+14   71953.0             1070434   \n",
       "4183  1340.45  1349.74  1968093  2.656419e+14   63130.0              953902   \n",
       "\n",
       "      %Deliverble  \n",
       "0          0.1466  \n",
       "1          0.3347  \n",
       "2          0.1331  \n",
       "3          0.2135  \n",
       "4          0.1370  \n",
       "...           ...  \n",
       "4179       0.3620  \n",
       "4180       0.4413  \n",
       "4181       0.5087  \n",
       "4182       0.4819  \n",
       "4183       0.4847  \n",
       "\n",
       "[4184 rows x 15 columns]"
      ]
     },
     "execution_count": 3,
     "metadata": {},
     "output_type": "execute_result"
    }
   ],
   "source": [
    "df"
   ]
  },
  {
   "cell_type": "code",
   "execution_count": 4,
   "id": "8717e63c",
   "metadata": {},
   "outputs": [],
   "source": [
    "df.drop(['Symbol','Series','Deliverable Volume','%Deliverble','Trades','VWAP','Volume'],axis=1,inplace=True)"
   ]
  },
  {
   "cell_type": "code",
   "execution_count": 5,
   "id": "7c57da41",
   "metadata": {},
   "outputs": [
    {
     "data": {
      "text/html": [
       "<div>\n",
       "<style scoped>\n",
       "    .dataframe tbody tr th:only-of-type {\n",
       "        vertical-align: middle;\n",
       "    }\n",
       "\n",
       "    .dataframe tbody tr th {\n",
       "        vertical-align: top;\n",
       "    }\n",
       "\n",
       "    .dataframe thead th {\n",
       "        text-align: right;\n",
       "    }\n",
       "</style>\n",
       "<table border=\"1\" class=\"dataframe\">\n",
       "  <thead>\n",
       "    <tr style=\"text-align: right;\">\n",
       "      <th></th>\n",
       "      <th>Date</th>\n",
       "      <th>Prev Close</th>\n",
       "      <th>Open</th>\n",
       "      <th>High</th>\n",
       "      <th>Low</th>\n",
       "      <th>Last</th>\n",
       "      <th>Close</th>\n",
       "      <th>Turnover</th>\n",
       "    </tr>\n",
       "  </thead>\n",
       "  <tbody>\n",
       "    <tr>\n",
       "      <th>0</th>\n",
       "      <td>2004-06-23</td>\n",
       "      <td>2.00</td>\n",
       "      <td>500.00</td>\n",
       "      <td>745.00</td>\n",
       "      <td>150.0</td>\n",
       "      <td>638.00</td>\n",
       "      <td>635.95</td>\n",
       "      <td>1.694372e+14</td>\n",
       "    </tr>\n",
       "    <tr>\n",
       "      <th>1</th>\n",
       "      <td>2004-06-24</td>\n",
       "      <td>635.95</td>\n",
       "      <td>630.00</td>\n",
       "      <td>630.00</td>\n",
       "      <td>608.4</td>\n",
       "      <td>612.00</td>\n",
       "      <td>616.00</td>\n",
       "      <td>5.647802e+13</td>\n",
       "    </tr>\n",
       "    <tr>\n",
       "      <th>2</th>\n",
       "      <td>2004-06-25</td>\n",
       "      <td>616.00</td>\n",
       "      <td>619.00</td>\n",
       "      <td>679.00</td>\n",
       "      <td>616.1</td>\n",
       "      <td>665.00</td>\n",
       "      <td>668.30</td>\n",
       "      <td>1.078136e+14</td>\n",
       "    </tr>\n",
       "    <tr>\n",
       "      <th>3</th>\n",
       "      <td>2004-06-28</td>\n",
       "      <td>668.30</td>\n",
       "      <td>660.00</td>\n",
       "      <td>671.90</td>\n",
       "      <td>640.2</td>\n",
       "      <td>653.00</td>\n",
       "      <td>656.40</td>\n",
       "      <td>6.004271e+13</td>\n",
       "    </tr>\n",
       "    <tr>\n",
       "      <th>4</th>\n",
       "      <td>2004-06-29</td>\n",
       "      <td>656.40</td>\n",
       "      <td>656.00</td>\n",
       "      <td>683.40</td>\n",
       "      <td>653.0</td>\n",
       "      <td>666.85</td>\n",
       "      <td>671.70</td>\n",
       "      <td>5.016488e+13</td>\n",
       "    </tr>\n",
       "    <tr>\n",
       "      <th>...</th>\n",
       "      <td>...</td>\n",
       "      <td>...</td>\n",
       "      <td>...</td>\n",
       "      <td>...</td>\n",
       "      <td>...</td>\n",
       "      <td>...</td>\n",
       "      <td>...</td>\n",
       "      <td>...</td>\n",
       "    </tr>\n",
       "    <tr>\n",
       "      <th>4179</th>\n",
       "      <td>2021-04-26</td>\n",
       "      <td>1322.90</td>\n",
       "      <td>1330.05</td>\n",
       "      <td>1341.20</td>\n",
       "      <td>1323.0</td>\n",
       "      <td>1339.00</td>\n",
       "      <td>1335.90</td>\n",
       "      <td>1.911037e+14</td>\n",
       "    </tr>\n",
       "    <tr>\n",
       "      <th>4180</th>\n",
       "      <td>2021-04-27</td>\n",
       "      <td>1335.90</td>\n",
       "      <td>1339.00</td>\n",
       "      <td>1388.45</td>\n",
       "      <td>1335.9</td>\n",
       "      <td>1384.00</td>\n",
       "      <td>1380.65</td>\n",
       "      <td>5.898288e+14</td>\n",
       "    </tr>\n",
       "    <tr>\n",
       "      <th>4181</th>\n",
       "      <td>2021-04-28</td>\n",
       "      <td>1380.65</td>\n",
       "      <td>1384.85</td>\n",
       "      <td>1399.95</td>\n",
       "      <td>1372.5</td>\n",
       "      <td>1374.15</td>\n",
       "      <td>1375.90</td>\n",
       "      <td>4.455488e+14</td>\n",
       "    </tr>\n",
       "    <tr>\n",
       "      <th>4182</th>\n",
       "      <td>2021-04-29</td>\n",
       "      <td>1375.90</td>\n",
       "      <td>1383.95</td>\n",
       "      <td>1389.55</td>\n",
       "      <td>1353.5</td>\n",
       "      <td>1358.80</td>\n",
       "      <td>1358.65</td>\n",
       "      <td>3.035242e+14</td>\n",
       "    </tr>\n",
       "    <tr>\n",
       "      <th>4183</th>\n",
       "      <td>2021-04-30</td>\n",
       "      <td>1358.65</td>\n",
       "      <td>1350.00</td>\n",
       "      <td>1365.00</td>\n",
       "      <td>1336.1</td>\n",
       "      <td>1340.05</td>\n",
       "      <td>1340.45</td>\n",
       "      <td>2.656419e+14</td>\n",
       "    </tr>\n",
       "  </tbody>\n",
       "</table>\n",
       "<p>4184 rows × 8 columns</p>\n",
       "</div>"
      ],
      "text/plain": [
       "            Date  Prev Close     Open     High     Low     Last    Close  \\\n",
       "0     2004-06-23        2.00   500.00   745.00   150.0   638.00   635.95   \n",
       "1     2004-06-24      635.95   630.00   630.00   608.4   612.00   616.00   \n",
       "2     2004-06-25      616.00   619.00   679.00   616.1   665.00   668.30   \n",
       "3     2004-06-28      668.30   660.00   671.90   640.2   653.00   656.40   \n",
       "4     2004-06-29      656.40   656.00   683.40   653.0   666.85   671.70   \n",
       "...          ...         ...      ...      ...     ...      ...      ...   \n",
       "4179  2021-04-26     1322.90  1330.05  1341.20  1323.0  1339.00  1335.90   \n",
       "4180  2021-04-27     1335.90  1339.00  1388.45  1335.9  1384.00  1380.65   \n",
       "4181  2021-04-28     1380.65  1384.85  1399.95  1372.5  1374.15  1375.90   \n",
       "4182  2021-04-29     1375.90  1383.95  1389.55  1353.5  1358.80  1358.65   \n",
       "4183  2021-04-30     1358.65  1350.00  1365.00  1336.1  1340.05  1340.45   \n",
       "\n",
       "          Turnover  \n",
       "0     1.694372e+14  \n",
       "1     5.647802e+13  \n",
       "2     1.078136e+14  \n",
       "3     6.004271e+13  \n",
       "4     5.016488e+13  \n",
       "...            ...  \n",
       "4179  1.911037e+14  \n",
       "4180  5.898288e+14  \n",
       "4181  4.455488e+14  \n",
       "4182  3.035242e+14  \n",
       "4183  2.656419e+14  \n",
       "\n",
       "[4184 rows x 8 columns]"
      ]
     },
     "execution_count": 5,
     "metadata": {},
     "output_type": "execute_result"
    }
   ],
   "source": [
    "df"
   ]
  },
  {
   "cell_type": "code",
   "execution_count": 6,
   "id": "2490784f",
   "metadata": {},
   "outputs": [
    {
     "data": {
      "text/plain": [
       "Date          0\n",
       "Prev Close    0\n",
       "Open          0\n",
       "High          0\n",
       "Low           0\n",
       "Last          0\n",
       "Close         0\n",
       "Turnover      0\n",
       "dtype: int64"
      ]
     },
     "execution_count": 6,
     "metadata": {},
     "output_type": "execute_result"
    }
   ],
   "source": [
    "df.isna().sum()"
   ]
  },
  {
   "cell_type": "code",
   "execution_count": 7,
   "id": "00fd6250",
   "metadata": {},
   "outputs": [
    {
     "data": {
      "text/plain": [
       "Date          0\n",
       "Prev Close    0\n",
       "Open          0\n",
       "High          0\n",
       "Low           0\n",
       "Last          0\n",
       "Close         0\n",
       "Turnover      0\n",
       "dtype: int64"
      ]
     },
     "execution_count": 7,
     "metadata": {},
     "output_type": "execute_result"
    }
   ],
   "source": [
    "df.isna().sum()"
   ]
  },
  {
   "cell_type": "code",
   "execution_count": 8,
   "id": "1ce84539",
   "metadata": {},
   "outputs": [],
   "source": [
    "df['Date'] = pd.to_numeric(df.Date.str.replace('-',''))"
   ]
  },
  {
   "cell_type": "code",
   "execution_count": 9,
   "id": "496a1607",
   "metadata": {},
   "outputs": [
    {
     "data": {
      "text/html": [
       "<div>\n",
       "<style scoped>\n",
       "    .dataframe tbody tr th:only-of-type {\n",
       "        vertical-align: middle;\n",
       "    }\n",
       "\n",
       "    .dataframe tbody tr th {\n",
       "        vertical-align: top;\n",
       "    }\n",
       "\n",
       "    .dataframe thead th {\n",
       "        text-align: right;\n",
       "    }\n",
       "</style>\n",
       "<table border=\"1\" class=\"dataframe\">\n",
       "  <thead>\n",
       "    <tr style=\"text-align: right;\">\n",
       "      <th></th>\n",
       "      <th>Date</th>\n",
       "      <th>Prev Close</th>\n",
       "      <th>Open</th>\n",
       "      <th>High</th>\n",
       "      <th>Low</th>\n",
       "      <th>Last</th>\n",
       "      <th>Close</th>\n",
       "      <th>Turnover</th>\n",
       "    </tr>\n",
       "  </thead>\n",
       "  <tbody>\n",
       "    <tr>\n",
       "      <th>0</th>\n",
       "      <td>20040623</td>\n",
       "      <td>2.00</td>\n",
       "      <td>500.00</td>\n",
       "      <td>745.00</td>\n",
       "      <td>150.0</td>\n",
       "      <td>638.00</td>\n",
       "      <td>635.95</td>\n",
       "      <td>1.694372e+14</td>\n",
       "    </tr>\n",
       "    <tr>\n",
       "      <th>1</th>\n",
       "      <td>20040624</td>\n",
       "      <td>635.95</td>\n",
       "      <td>630.00</td>\n",
       "      <td>630.00</td>\n",
       "      <td>608.4</td>\n",
       "      <td>612.00</td>\n",
       "      <td>616.00</td>\n",
       "      <td>5.647802e+13</td>\n",
       "    </tr>\n",
       "    <tr>\n",
       "      <th>2</th>\n",
       "      <td>20040625</td>\n",
       "      <td>616.00</td>\n",
       "      <td>619.00</td>\n",
       "      <td>679.00</td>\n",
       "      <td>616.1</td>\n",
       "      <td>665.00</td>\n",
       "      <td>668.30</td>\n",
       "      <td>1.078136e+14</td>\n",
       "    </tr>\n",
       "    <tr>\n",
       "      <th>3</th>\n",
       "      <td>20040628</td>\n",
       "      <td>668.30</td>\n",
       "      <td>660.00</td>\n",
       "      <td>671.90</td>\n",
       "      <td>640.2</td>\n",
       "      <td>653.00</td>\n",
       "      <td>656.40</td>\n",
       "      <td>6.004271e+13</td>\n",
       "    </tr>\n",
       "    <tr>\n",
       "      <th>4</th>\n",
       "      <td>20040629</td>\n",
       "      <td>656.40</td>\n",
       "      <td>656.00</td>\n",
       "      <td>683.40</td>\n",
       "      <td>653.0</td>\n",
       "      <td>666.85</td>\n",
       "      <td>671.70</td>\n",
       "      <td>5.016488e+13</td>\n",
       "    </tr>\n",
       "    <tr>\n",
       "      <th>...</th>\n",
       "      <td>...</td>\n",
       "      <td>...</td>\n",
       "      <td>...</td>\n",
       "      <td>...</td>\n",
       "      <td>...</td>\n",
       "      <td>...</td>\n",
       "      <td>...</td>\n",
       "      <td>...</td>\n",
       "    </tr>\n",
       "    <tr>\n",
       "      <th>4179</th>\n",
       "      <td>20210426</td>\n",
       "      <td>1322.90</td>\n",
       "      <td>1330.05</td>\n",
       "      <td>1341.20</td>\n",
       "      <td>1323.0</td>\n",
       "      <td>1339.00</td>\n",
       "      <td>1335.90</td>\n",
       "      <td>1.911037e+14</td>\n",
       "    </tr>\n",
       "    <tr>\n",
       "      <th>4180</th>\n",
       "      <td>20210427</td>\n",
       "      <td>1335.90</td>\n",
       "      <td>1339.00</td>\n",
       "      <td>1388.45</td>\n",
       "      <td>1335.9</td>\n",
       "      <td>1384.00</td>\n",
       "      <td>1380.65</td>\n",
       "      <td>5.898288e+14</td>\n",
       "    </tr>\n",
       "    <tr>\n",
       "      <th>4181</th>\n",
       "      <td>20210428</td>\n",
       "      <td>1380.65</td>\n",
       "      <td>1384.85</td>\n",
       "      <td>1399.95</td>\n",
       "      <td>1372.5</td>\n",
       "      <td>1374.15</td>\n",
       "      <td>1375.90</td>\n",
       "      <td>4.455488e+14</td>\n",
       "    </tr>\n",
       "    <tr>\n",
       "      <th>4182</th>\n",
       "      <td>20210429</td>\n",
       "      <td>1375.90</td>\n",
       "      <td>1383.95</td>\n",
       "      <td>1389.55</td>\n",
       "      <td>1353.5</td>\n",
       "      <td>1358.80</td>\n",
       "      <td>1358.65</td>\n",
       "      <td>3.035242e+14</td>\n",
       "    </tr>\n",
       "    <tr>\n",
       "      <th>4183</th>\n",
       "      <td>20210430</td>\n",
       "      <td>1358.65</td>\n",
       "      <td>1350.00</td>\n",
       "      <td>1365.00</td>\n",
       "      <td>1336.1</td>\n",
       "      <td>1340.05</td>\n",
       "      <td>1340.45</td>\n",
       "      <td>2.656419e+14</td>\n",
       "    </tr>\n",
       "  </tbody>\n",
       "</table>\n",
       "<p>4184 rows × 8 columns</p>\n",
       "</div>"
      ],
      "text/plain": [
       "          Date  Prev Close     Open     High     Low     Last    Close  \\\n",
       "0     20040623        2.00   500.00   745.00   150.0   638.00   635.95   \n",
       "1     20040624      635.95   630.00   630.00   608.4   612.00   616.00   \n",
       "2     20040625      616.00   619.00   679.00   616.1   665.00   668.30   \n",
       "3     20040628      668.30   660.00   671.90   640.2   653.00   656.40   \n",
       "4     20040629      656.40   656.00   683.40   653.0   666.85   671.70   \n",
       "...        ...         ...      ...      ...     ...      ...      ...   \n",
       "4179  20210426     1322.90  1330.05  1341.20  1323.0  1339.00  1335.90   \n",
       "4180  20210427     1335.90  1339.00  1388.45  1335.9  1384.00  1380.65   \n",
       "4181  20210428     1380.65  1384.85  1399.95  1372.5  1374.15  1375.90   \n",
       "4182  20210429     1375.90  1383.95  1389.55  1353.5  1358.80  1358.65   \n",
       "4183  20210430     1358.65  1350.00  1365.00  1336.1  1340.05  1340.45   \n",
       "\n",
       "          Turnover  \n",
       "0     1.694372e+14  \n",
       "1     5.647802e+13  \n",
       "2     1.078136e+14  \n",
       "3     6.004271e+13  \n",
       "4     5.016488e+13  \n",
       "...            ...  \n",
       "4179  1.911037e+14  \n",
       "4180  5.898288e+14  \n",
       "4181  4.455488e+14  \n",
       "4182  3.035242e+14  \n",
       "4183  2.656419e+14  \n",
       "\n",
       "[4184 rows x 8 columns]"
      ]
     },
     "execution_count": 9,
     "metadata": {},
     "output_type": "execute_result"
    }
   ],
   "source": [
    "df"
   ]
  },
  {
   "cell_type": "code",
   "execution_count": 10,
   "id": "33308798",
   "metadata": {},
   "outputs": [],
   "source": [
    "#visualizing data"
   ]
  },
  {
   "cell_type": "code",
   "execution_count": 11,
   "id": "048ec4bf",
   "metadata": {},
   "outputs": [
    {
     "data": {
      "text/plain": [
       "<AxesSubplot:xlabel='Turnover', ylabel='count'>"
      ]
     },
     "execution_count": 11,
     "metadata": {},
     "output_type": "execute_result"
    },
    {
     "data": {
      "image/png": "[encoded data removed]",
      "text/plain": [
       "<Figure size 432x288 with 1 Axes>"
      ]
     },
     "metadata": {
      "needs_background": "light"
     },
     "output_type": "display_data"
    }
   ],
   "source": [
    "sns.countplot(x='Turnover',data=df)"
   ]
  },
  {
   "cell_type": "code",
   "execution_count": 12,
   "id": "f6b0b72a",
   "metadata": {},
   "outputs": [
    {
     "data": {
      "text/plain": [
       "<AxesSubplot:>"
      ]
     },
     "execution_count": 12,
     "metadata": {},
     "output_type": "execute_result"
    },
    {
     "data": {
      "image/png": "[encoded data removed]",
      "text/plain": [
       "<Figure size 432x288 with 1 Axes>"
      ]
     },
     "metadata": {
      "needs_background": "light"
     },
     "output_type": "display_data"
    }
   ],
   "source": [
    "df['Turnover'].hist(color='Blue',alpha=0.5,bins=15)"
   ]
  },
  {
   "cell_type": "code",
   "execution_count": 13,
   "id": "6702a158",
   "metadata": {},
   "outputs": [
    {
     "data": {
      "text/plain": [
       "(array([20025000., 20050000., 20075000., 20100000., 20125000., 20150000.,\n",
       "        20175000., 20200000., 20225000.]),\n",
       " [Text(0, 0, ''),\n",
       "  Text(0, 0, ''),\n",
       "  Text(0, 0, ''),\n",
       "  Text(0, 0, ''),\n",
       "  Text(0, 0, ''),\n",
       "  Text(0, 0, ''),\n",
       "  Text(0, 0, ''),\n",
       "  Text(0, 0, ''),\n",
       "  Text(0, 0, '')])"
      ]
     },
     "execution_count": 13,
     "metadata": {},
     "output_type": "execute_result"
    },
    {
     "data": {
      "image/png": "[encoded data removed]",
      "text/plain": [
       "<Figure size 1152x432 with 1 Axes>"
      ]
     },
     "metadata": {
      "needs_background": "light"
     },
     "output_type": "display_data"
    }
   ],
   "source": [
    "plt.figure(figsize=(16,6))\n",
    "plt.plot('Date','Close',data=df)\n",
    "plt.xlabel('Date')\n",
    "plt.ylabel('Close price')\n",
    "plt.xticks(rotation=45)"
   ]
  },
  {
   "cell_type": "code",
   "execution_count": 14,
   "id": "0cdfa7b3",
   "metadata": {},
   "outputs": [],
   "source": [
    "x = df.iloc[:,:-1]\n",
    "y = df.iloc[:,-1]"
   ]
  },
  {
   "cell_type": "code",
   "execution_count": 15,
   "id": "f6d38c3b",
   "metadata": {},
   "outputs": [
    {
     "data": {
      "text/html": [
       "<div>\n",
       "<style scoped>\n",
       "    .dataframe tbody tr th:only-of-type {\n",
       "        vertical-align: middle;\n",
       "    }\n",
       "\n",
       "    .dataframe tbody tr th {\n",
       "        vertical-align: top;\n",
       "    }\n",
       "\n",
       "    .dataframe thead th {\n",
       "        text-align: right;\n",
       "    }\n",
       "</style>\n",
       "<table border=\"1\" class=\"dataframe\">\n",
       "  <thead>\n",
       "    <tr style=\"text-align: right;\">\n",
       "      <th></th>\n",
       "      <th>Date</th>\n",
       "      <th>Prev Close</th>\n",
       "      <th>Open</th>\n",
       "      <th>High</th>\n",
       "      <th>Low</th>\n",
       "      <th>Last</th>\n",
       "      <th>Close</th>\n",
       "    </tr>\n",
       "  </thead>\n",
       "  <tbody>\n",
       "    <tr>\n",
       "      <th>0</th>\n",
       "      <td>20040623</td>\n",
       "      <td>2.00</td>\n",
       "      <td>500.00</td>\n",
       "      <td>745.00</td>\n",
       "      <td>150.0</td>\n",
       "      <td>638.00</td>\n",
       "      <td>635.95</td>\n",
       "    </tr>\n",
       "    <tr>\n",
       "      <th>1</th>\n",
       "      <td>20040624</td>\n",
       "      <td>635.95</td>\n",
       "      <td>630.00</td>\n",
       "      <td>630.00</td>\n",
       "      <td>608.4</td>\n",
       "      <td>612.00</td>\n",
       "      <td>616.00</td>\n",
       "    </tr>\n",
       "    <tr>\n",
       "      <th>2</th>\n",
       "      <td>20040625</td>\n",
       "      <td>616.00</td>\n",
       "      <td>619.00</td>\n",
       "      <td>679.00</td>\n",
       "      <td>616.1</td>\n",
       "      <td>665.00</td>\n",
       "      <td>668.30</td>\n",
       "    </tr>\n",
       "    <tr>\n",
       "      <th>3</th>\n",
       "      <td>20040628</td>\n",
       "      <td>668.30</td>\n",
       "      <td>660.00</td>\n",
       "      <td>671.90</td>\n",
       "      <td>640.2</td>\n",
       "      <td>653.00</td>\n",
       "      <td>656.40</td>\n",
       "    </tr>\n",
       "    <tr>\n",
       "      <th>4</th>\n",
       "      <td>20040629</td>\n",
       "      <td>656.40</td>\n",
       "      <td>656.00</td>\n",
       "      <td>683.40</td>\n",
       "      <td>653.0</td>\n",
       "      <td>666.85</td>\n",
       "      <td>671.70</td>\n",
       "    </tr>\n",
       "    <tr>\n",
       "      <th>...</th>\n",
       "      <td>...</td>\n",
       "      <td>...</td>\n",
       "      <td>...</td>\n",
       "      <td>...</td>\n",
       "      <td>...</td>\n",
       "      <td>...</td>\n",
       "      <td>...</td>\n",
       "    </tr>\n",
       "    <tr>\n",
       "      <th>4179</th>\n",
       "      <td>20210426</td>\n",
       "      <td>1322.90</td>\n",
       "      <td>1330.05</td>\n",
       "      <td>1341.20</td>\n",
       "      <td>1323.0</td>\n",
       "      <td>1339.00</td>\n",
       "      <td>1335.90</td>\n",
       "    </tr>\n",
       "    <tr>\n",
       "      <th>4180</th>\n",
       "      <td>20210427</td>\n",
       "      <td>1335.90</td>\n",
       "      <td>1339.00</td>\n",
       "      <td>1388.45</td>\n",
       "      <td>1335.9</td>\n",
       "      <td>1384.00</td>\n",
       "      <td>1380.65</td>\n",
       "    </tr>\n",
       "    <tr>\n",
       "      <th>4181</th>\n",
       "      <td>20210428</td>\n",
       "      <td>1380.65</td>\n",
       "      <td>1384.85</td>\n",
       "      <td>1399.95</td>\n",
       "      <td>1372.5</td>\n",
       "      <td>1374.15</td>\n",
       "      <td>1375.90</td>\n",
       "    </tr>\n",
       "    <tr>\n",
       "      <th>4182</th>\n",
       "      <td>20210429</td>\n",
       "      <td>1375.90</td>\n",
       "      <td>1383.95</td>\n",
       "      <td>1389.55</td>\n",
       "      <td>1353.5</td>\n",
       "      <td>1358.80</td>\n",
       "      <td>1358.65</td>\n",
       "    </tr>\n",
       "    <tr>\n",
       "      <th>4183</th>\n",
       "      <td>20210430</td>\n",
       "      <td>1358.65</td>\n",
       "      <td>1350.00</td>\n",
       "      <td>1365.00</td>\n",
       "      <td>1336.1</td>\n",
       "      <td>1340.05</td>\n",
       "      <td>1340.45</td>\n",
       "    </tr>\n",
       "  </tbody>\n",
       "</table>\n",
       "<p>4184 rows × 7 columns</p>\n",
       "</div>"
      ],
      "text/plain": [
       "          Date  Prev Close     Open     High     Low     Last    Close\n",
       "0     20040623        2.00   500.00   745.00   150.0   638.00   635.95\n",
       "1     20040624      635.95   630.00   630.00   608.4   612.00   616.00\n",
       "2     20040625      616.00   619.00   679.00   616.1   665.00   668.30\n",
       "3     20040628      668.30   660.00   671.90   640.2   653.00   656.40\n",
       "4     20040629      656.40   656.00   683.40   653.0   666.85   671.70\n",
       "...        ...         ...      ...      ...     ...      ...      ...\n",
       "4179  20210426     1322.90  1330.05  1341.20  1323.0  1339.00  1335.90\n",
       "4180  20210427     1335.90  1339.00  1388.45  1335.9  1384.00  1380.65\n",
       "4181  20210428     1380.65  1384.85  1399.95  1372.5  1374.15  1375.90\n",
       "4182  20210429     1375.90  1383.95  1389.55  1353.5  1358.80  1358.65\n",
       "4183  20210430     1358.65  1350.00  1365.00  1336.1  1340.05  1340.45\n",
       "\n",
       "[4184 rows x 7 columns]"
      ]
     },
     "execution_count": 15,
     "metadata": {},
     "output_type": "execute_result"
    }
   ],
   "source": [
    "x"
   ]
  },
  {
   "cell_type": "code",
   "execution_count": 16,
   "id": "b19e8ae2",
   "metadata": {},
   "outputs": [
    {
     "data": {
      "text/plain": [
       "0       1.694372e+14\n",
       "1       5.647802e+13\n",
       "2       1.078136e+14\n",
       "3       6.004271e+13\n",
       "4       5.016488e+13\n",
       "            ...     \n",
       "4179    1.911037e+14\n",
       "4180    5.898288e+14\n",
       "4181    4.455488e+14\n",
       "4182    3.035242e+14\n",
       "4183    2.656419e+14\n",
       "Name: Turnover, Length: 4184, dtype: float64"
      ]
     },
     "execution_count": 16,
     "metadata": {},
     "output_type": "execute_result"
    }
   ],
   "source": [
    "y"
   ]
  },
  {
   "cell_type": "code",
   "execution_count": 17,
   "id": "795d8e4d",
   "metadata": {},
   "outputs": [],
   "source": [
    "from sklearn.model_selection import train_test_split"
   ]
  },
  {
   "cell_type": "code",
   "execution_count": 18,
   "id": "1ec81df3",
   "metadata": {},
   "outputs": [],
   "source": [
    "x_train,x_test,y_train,y_test = train_test_split(x,y,test_size=0.2)"
   ]
  },
  {
   "cell_type": "code",
   "execution_count": 19,
   "id": "0c10d299",
   "metadata": {},
   "outputs": [
    {
     "data": {
      "text/plain": [
       "3347"
      ]
     },
     "execution_count": 19,
     "metadata": {},
     "output_type": "execute_result"
    }
   ],
   "source": [
    "len(x_train)"
   ]
  },
  {
   "cell_type": "code",
   "execution_count": 20,
   "id": "0aacfc64",
   "metadata": {},
   "outputs": [
    {
     "data": {
      "text/plain": [
       "837"
      ]
     },
     "execution_count": 20,
     "metadata": {},
     "output_type": "execute_result"
    }
   ],
   "source": [
    "len(x_test)"
   ]
  },
  {
   "cell_type": "code",
   "execution_count": 21,
   "id": "7f05c868",
   "metadata": {},
   "outputs": [],
   "source": [
    "from sklearn.preprocessing import StandardScaler\n",
    "sc=StandardScaler()\n",
    "x_train=sc.fit_transform(x_train,y_train)\n",
    "x_test=sc.transform(x_test)"
   ]
  },
  {
   "cell_type": "code",
   "execution_count": 22,
   "id": "d60d91b8",
   "metadata": {},
   "outputs": [],
   "source": [
    "from sklearn.metrics import accuracy_score"
   ]
  },
  {
   "cell_type": "code",
   "execution_count": 23,
   "id": "6d09b493",
   "metadata": {},
   "outputs": [
    {
     "data": {
      "text/plain": [
       "0.4139460484682047"
      ]
     },
     "execution_count": 23,
     "metadata": {},
     "output_type": "execute_result"
    }
   ],
   "source": [
    "#Logistic Regression\n",
    "from sklearn.linear_model import LinearRegression\n",
    "model = LinearRegression()\n",
    "model.fit(x_train,y_train)\n",
    "y_pred = model.predict(x_test)\n",
    "model.score(x_train,y_train)"
   ]
  },
  {
   "cell_type": "code",
   "execution_count": 32,
   "id": "4779352c",
   "metadata": {},
   "outputs": [],
   "source": [
    "y_pred = model.predict([[20040623,2.00,500.00,745.00,150.0,638.00,635.95]])"
   ]
  },
  {
   "cell_type": "code",
   "execution_count": 33,
   "id": "b32a3d4f",
   "metadata": {},
   "outputs": [
    {
     "data": {
      "text/plain": [
       "array([2.83380145e+14])"
      ]
     },
     "execution_count": 33,
     "metadata": {},
     "output_type": "execute_result"
    }
   ],
   "source": [
    "y_pred"
   ]
  },
  {
   "cell_type": "code",
   "execution_count": 36,
   "id": "40d60a58",
   "metadata": {},
   "outputs": [
    {
     "data": {
      "text/plain": [
       "1.0"
      ]
     },
     "execution_count": 36,
     "metadata": {},
     "output_type": "execute_result"
    }
   ],
   "source": [
    "#Decision tree Regressor algo\n",
    "from sklearn.tree import DecisionTreeRegressor\n",
    "mod = DecisionTreeRegressor()\n",
    "mod.fit(x_train,y_train)\n",
    "mod.score(x_train,y_train)"
   ]
  },
  {
   "cell_type": "code",
   "execution_count": 37,
   "id": "5268f272",
   "metadata": {},
   "outputs": [
    {
     "data": {
      "text/plain": [
       "array([2.83380145e+14])"
      ]
     },
     "execution_count": 37,
     "metadata": {},
     "output_type": "execute_result"
    }
   ],
   "source": [
    "y_pred = mod.predict([[20040623,2.00,500.00,745.00,150.0,638.00,635.95]])\n",
    "y_pred"
   ]
  },
  {
   "cell_type": "code",
   "execution_count": 38,
   "id": "b2e710bd",
   "metadata": {},
   "outputs": [
    {
     "data": {
      "text/plain": [
       "0.627954990472402"
      ]
     },
     "execution_count": 38,
     "metadata": {},
     "output_type": "execute_result"
    }
   ],
   "source": [
    "#KNN\n",
    "from sklearn.neighbors import KNeighborsRegressor\n",
    "model1 = KNeighborsRegressor()\n",
    "model1.fit(x_train,y_train)\n",
    "y_pred = model1.predict(x_test)\n",
    "model1.score(x_train,y_train)"
   ]
  },
  {
   "cell_type": "code",
   "execution_count": 39,
   "id": "3c72c425",
   "metadata": {},
   "outputs": [
    {
     "data": {
      "text/plain": [
       "array([3.27643222e+14])"
      ]
     },
     "execution_count": 39,
     "metadata": {},
     "output_type": "execute_result"
    }
   ],
   "source": [
    "y_pred = model1.predict([[20040623,2.00,500.00,745.00,150.0,638.00,635.95]])\n",
    "y_pred"
   ]
  },
  {
   "cell_type": "code",
   "execution_count": 28,
   "id": "044d75f5",
   "metadata": {},
   "outputs": [
    {
     "data": {
      "text/plain": [
       "array([2.77994483e+14])"
      ]
     },
     "execution_count": 28,
     "metadata": {},
     "output_type": "execute_result"
    }
   ],
   "source": [
    "y_pred = model1.predict([[2016514,2458.90,2446.00,2470.25,2414.00,2419.95,2421.65]])\n",
    "y_pred"
   ]
  },
  {
   "cell_type": "code",
   "execution_count": 45,
   "id": "1c7def74",
   "metadata": {},
   "outputs": [
    {
     "data": {
      "text/plain": [
       "1.0"
      ]
     },
     "execution_count": 45,
     "metadata": {},
     "output_type": "execute_result"
    }
   ],
   "source": [
    "from sklearn.tree import DecisionTreeRegressor\n",
    "model1 = DecisionTreeRegressor()\n",
    "model1.fit(x_train,y_train)\n",
    "y_pred = model1.predict(x_test)\n",
    "model1.score(x_train,y_train)"
   ]
  },
  {
   "cell_type": "code",
   "execution_count": 48,
   "id": "861a05ab",
   "metadata": {},
   "outputs": [
    {
     "data": {
      "text/plain": [
       "array([5.15271937e+14])"
      ]
     },
     "execution_count": 48,
     "metadata": {},
     "output_type": "execute_result"
    }
   ],
   "source": [
    "y_pred = model1.predict([[20040623,289.00,500.00,745.00,150.0,638.00,635.95]])\n",
    "y_pred"
   ]
  },
  {
   "cell_type": "code",
   "execution_count": 49,
   "id": "c1827477",
   "metadata": {},
   "outputs": [
    {
     "data": {
      "text/plain": [
       "array([5.15271937e+14])"
      ]
     },
     "execution_count": 49,
     "metadata": {},
     "output_type": "execute_result"
    }
   ],
   "source": [
    "y_pred = model1.predict([[20200430,2468.90,2446.00,2470.25,2414.00,2419.95,2421.65]])\n",
    "y_pred"
   ]
  },
  {
   "cell_type": "code",
   "execution_count": 31,
   "id": "d01efe12",
   "metadata": {},
   "outputs": [
    {
     "data": {
      "text/plain": [
       "1.0"
      ]
     },
     "execution_count": 31,
     "metadata": {},
     "output_type": "execute_result"
    }
   ],
   "source": [
    "#Decision tree Regressor algo\n",
    "from sklearn.tree import DecisionTreeRegressor\n",
    "import pickle\n",
    "import joblib\n",
    "filename=\"dmodel.pkl\"\n",
    "model =  DecisionTreeRegressor()\n",
    "model.fit(x_train,y_train)\n",
    "joblib.dump(model,filename)\n",
    "\n",
    "y_pred = model.predict(x_test)\n",
    "model.score(x_train,y_train)"
   ]
  }
 ],
 "metadata": {
  "kernelspec": {
   "display_name": "Python 3",
   "language": "python",
   "name": "python3"
  },
  "language_info": {
   "codemirror_mode": {
    "name": "ipython",
    "version": 3
   },
   "file_extension": ".py",
   "mimetype": "text/x-python",
   "name": "python",
   "nbconvert_exporter": "python",
   "pygments_lexer": "ipython3",
   "version": "3.8.8"
  }
 },
 "nbformat": 4,
 "nbformat_minor": 5
}
